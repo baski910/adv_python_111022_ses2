{
 "cells": [
  {
   "cell_type": "code",
   "execution_count": 2,
   "id": "cc08ef1e",
   "metadata": {},
   "outputs": [
    {
     "name": "stdout",
     "output_type": "stream",
     "text": [
      "reference of list1: 140474019208904\n",
      "reference of list2: 140474019208712\n",
      "reference of element at index 2 of list1: 140474019208584\n",
      "reference of element at index 2 of list2: 140474019204552\n",
      "elements of list1: ['a', 'b', ['c', 'd'], 'e', 'f']\n",
      "elements of list2: ['a', 'b', ['c', 'd'], 'e', 'f']\n",
      "####################after modification####################\n",
      "reference of element at index 2: 140474019208584\n",
      "reference of element at index 2: 140474019204552\n",
      "elements of list1: ['a', 'b', ['c', 'd'], 'e', 'f']\n",
      "elements of list2: ['a', 'b', ['c', 'g'], 'e', 'f']\n"
     ]
    }
   ],
   "source": [
    "\"\"\"example for deep copy\"\"\"\n",
    "\n",
    "\"\"\"\n",
    "In deep copy, the lists and their inner elements get different refernces. \n",
    "Hence the modification in one list will not affect the other\n",
    "\"\"\"\n",
    "from copy import deepcopy\n",
    "\n",
    "list1 = ['a','b',['c','d'],'e','f']  # the list elements can be of any data type. need not be of same datatype\n",
    "\n",
    "# in below assignment list2 as well as inner elements are created with different references\n",
    "list2 = deepcopy(list1)\n",
    "\n",
    "print(\"reference of list1:\",id(list1))\n",
    "print(\"reference of list2:\",id(list2))\n",
    "\n",
    "print(\"reference of element at index 2 of list1:\",id(list1[2]))\n",
    "print(\"reference of element at index 2 of list2:\",id(list2[2]))\n",
    "\n",
    "print(\"elements of list1:\",list1)\n",
    "print(\"elements of list2:\",list2)\n",
    "\n",
    "list2[2][1] = 'g'\n",
    "\n",
    "print(\"#\"*20+\"after modification\"+\"#\"*20)\n",
    "\n",
    "print(\"reference of element at index 2:\",id(list1[2]))\n",
    "print(\"reference of element at index 2:\",id(list2[2]))\n",
    "\n",
    "print(\"elements of list1:\",list1)\n",
    "print(\"elements of list2:\",list2)"
   ]
  },
  {
   "cell_type": "code",
   "execution_count": null,
   "id": "2ae0abf0",
   "metadata": {},
   "outputs": [],
   "source": []
  }
 ],
 "metadata": {
  "kernelspec": {
   "display_name": "Python 3 (ipykernel)",
   "language": "python",
   "name": "python3"
  },
  "language_info": {
   "codemirror_mode": {
    "name": "ipython",
    "version": 3
   },
   "file_extension": ".py",
   "mimetype": "text/x-python",
   "name": "python",
   "nbconvert_exporter": "python",
   "pygments_lexer": "ipython3",
   "version": "3.7.3"
  }
 },
 "nbformat": 4,
 "nbformat_minor": 5
}
