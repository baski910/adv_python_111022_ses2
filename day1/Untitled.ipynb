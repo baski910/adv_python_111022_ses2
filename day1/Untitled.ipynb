{
 "cells": [
  {
   "cell_type": "code",
   "execution_count": 1,
   "id": "aff861ce",
   "metadata": {},
   "outputs": [
    {
     "name": "stdout",
     "output_type": "stream",
     "text": [
      "h\n",
      "e\n",
      "l\n",
      "l\n",
      "o\n",
      "w\n",
      "o\n",
      "r\n",
      "l\n",
      "d\n"
     ]
    }
   ],
   "source": [
    "s1=\"helloworld\"\n",
    "#   0123456789\n",
    "#iterate over each character\n",
    "for char in s1:\n",
    "    print(char)"
   ]
  },
  {
   "cell_type": "code",
   "execution_count": 2,
   "id": "8ba059d9",
   "metadata": {},
   "outputs": [
    {
     "name": "stdout",
     "output_type": "stream",
     "text": [
      "w\n"
     ]
    }
   ],
   "source": [
    "#return character at index 4\n",
    "print(s1[5]) # output will be 'w'"
   ]
  },
  {
   "cell_type": "code",
   "execution_count": 3,
   "id": "e810d741",
   "metadata": {},
   "outputs": [
    {
     "name": "stdout",
     "output_type": "stream",
     "text": [
      "d\n"
     ]
    }
   ],
   "source": [
    "#preturn the last character using negative index\n",
    "print(s1[-1]) # output will be 'd'"
   ]
  },
  {
   "cell_type": "code",
   "execution_count": 4,
   "id": "f00156f9",
   "metadata": {},
   "outputs": [
    {
     "name": "stdout",
     "output_type": "stream",
     "text": [
      "ello\n"
     ]
    }
   ],
   "source": [
    "s1=\"helloworld\"\n",
    "#   0123456789\n",
    "#retuns character starting from index 1 upto index 5(not including). i.e., prints character at index 1,2,3 and 4\n",
    "print(s1[1:5])"
   ]
  },
  {
   "cell_type": "code",
   "execution_count": 5,
   "id": "db59b4a3",
   "metadata": {},
   "outputs": [
    {
     "name": "stdout",
     "output_type": "stream",
     "text": [
      "hello\n"
     ]
    }
   ],
   "source": [
    "#returns characters from beginning of the string upto index specified by upper limit\n",
    "print(s1[:5]) # output will be 'hello'"
   ]
  },
  {
   "cell_type": "code",
   "execution_count": 6,
   "id": "5068ca73",
   "metadata": {},
   "outputs": [
    {
     "name": "stdout",
     "output_type": "stream",
     "text": [
      "world\n"
     ]
    }
   ],
   "source": [
    "#returns characters upto end of the string from index specified by lower limit\n",
    "print(s1[5:]) # output will be 'world'"
   ]
  },
  {
   "cell_type": "code",
   "execution_count": 7,
   "id": "03f0766f",
   "metadata": {},
   "outputs": [
    {
     "name": "stdout",
     "output_type": "stream",
     "text": [
      "helloworld\n"
     ]
    }
   ],
   "source": [
    "#returns a new string with same set of characters\n",
    "print(s1[:]) # output will be 'helloworld'"
   ]
  },
  {
   "cell_type": "code",
   "execution_count": 8,
   "id": "659db8ee",
   "metadata": {},
   "outputs": [
    {
     "name": "stdout",
     "output_type": "stream",
     "text": [
      "elwr\n"
     ]
    }
   ],
   "source": [
    "\"\"\"extended slicing can be done on a string as follows:\n",
    "string[start:stop:step]\n",
    "characters within start and stop index jumping in steps \n",
    "\"\"\"\n",
    "s1=\"helloworld\"\n",
    "#   0123456789\n",
    "\n",
    "\n",
    "print(s1[1:8:2]) # output will be 'elwr' - i.e., characters at index 1,3,5 and 7"
   ]
  },
  {
   "cell_type": "code",
   "execution_count": 9,
   "id": "66a24693",
   "metadata": {},
   "outputs": [
    {
     "name": "stdout",
     "output_type": "stream",
     "text": [
      "dlrowolleh\n"
     ]
    }
   ],
   "source": [
    "print(s1[::-1]) # reverse the string"
   ]
  },
  {
   "cell_type": "code",
   "execution_count": 12,
   "id": "c8ef9a02",
   "metadata": {},
   "outputs": [
    {
     "name": "stdout",
     "output_type": "stream",
     "text": [
      "helloworld\n",
      "hello245\n"
     ]
    }
   ],
   "source": [
    "# using '+' operator\n",
    "\n",
    "s2 = \"hello\"\n",
    "s3 = \"world\"\n",
    "\n",
    "print(s2+s3)\n",
    "\n",
    "num = 245\n",
    "\n",
    "print(s2+str(num))"
   ]
  },
  {
   "cell_type": "code",
   "execution_count": 13,
   "id": "8c4b634b",
   "metadata": {},
   "outputs": [
    {
     "name": "stdout",
     "output_type": "stream",
     "text": [
      "############################################################\n"
     ]
    }
   ],
   "source": [
    "s4 = '#'\n",
    "\n",
    "print(s4*60)"
   ]
  },
  {
   "cell_type": "code",
   "execution_count": null,
   "id": "1fdaa74e",
   "metadata": {},
   "outputs": [],
   "source": []
  }
 ],
 "metadata": {
  "kernelspec": {
   "display_name": "Python 3 (ipykernel)",
   "language": "python",
   "name": "python3"
  },
  "language_info": {
   "codemirror_mode": {
    "name": "ipython",
    "version": 3
   },
   "file_extension": ".py",
   "mimetype": "text/x-python",
   "name": "python",
   "nbconvert_exporter": "python",
   "pygments_lexer": "ipython3",
   "version": "3.7.3"
  }
 },
 "nbformat": 4,
 "nbformat_minor": 5
}
