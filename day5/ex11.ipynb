{
 "cells": [
  {
   "cell_type": "code",
   "execution_count": 3,
   "id": "76ef6c3a",
   "metadata": {},
   "outputs": [
    {
     "name": "stdout",
     "output_type": "stream",
     "text": [
      "Enter a numberhello\n",
      "error in converting to integer\n",
      "script continues here ...\n"
     ]
    }
   ],
   "source": [
    "#An exception is an event, which occurs during the execution of a program, \n",
    "#that disrupts the normal flow of the program's instructions. \n",
    "#In general, when a Python script encounters a situation that it can't cope with, \n",
    "#it raises an exception. An exception is a Python object that represents an error.\n",
    "\n",
    "#Run Time Error\n",
    "#Raised when an error is detected that doesn’t fall in any of the other categories. \n",
    "#The associated value is a string indicating what precisely went wrong.\n",
    "\n",
    "# try:\n",
    "#     TODO\n",
    "# except ErrorClass:\n",
    "#     TODO\n",
    "# else:\n",
    "#     TODO - executed only when try succeeds\n",
    "# finally:\n",
    "#     TODO - executed always\n",
    "\n",
    "try:\n",
    "    num = int(input(\"Enter a number\"))\n",
    "    print(num)\n",
    "except:\n",
    "    print(\"error in converting to integer\")\n",
    "    \n",
    "print(\"script continues here ...\")"
   ]
  },
  {
   "cell_type": "code",
   "execution_count": 5,
   "id": "f35a67f7",
   "metadata": {},
   "outputs": [
    {
     "name": "stdout",
     "output_type": "stream",
     "text": [
      "Enter a numberworld\n",
      "error in converting to integer (<class 'ValueError'>, ValueError(\"invalid literal for int() with base 10: 'world'\"), <traceback object at 0x7f98c8500dc8>)\n",
      "script continues here ...\n"
     ]
    }
   ],
   "source": [
    "# get the type of error using sys.exc_info\n",
    "import sys\n",
    "\n",
    "try:\n",
    "    num = int(input(\"Enter a number\"))\n",
    "    print(num)\n",
    "except ValueError:\n",
    "    print(\"error in converting to integer\",sys.exc_info())\n",
    "    \n",
    "print(\"script continues here ...\")"
   ]
  },
  {
   "cell_type": "code",
   "execution_count": null,
   "id": "1bfa3b58",
   "metadata": {},
   "outputs": [],
   "source": []
  }
 ],
 "metadata": {
  "kernelspec": {
   "display_name": "Python 3 (ipykernel)",
   "language": "python",
   "name": "python3"
  },
  "language_info": {
   "codemirror_mode": {
    "name": "ipython",
    "version": 3
   },
   "file_extension": ".py",
   "mimetype": "text/x-python",
   "name": "python",
   "nbconvert_exporter": "python",
   "pygments_lexer": "ipython3",
   "version": "3.7.3"
  }
 },
 "nbformat": 4,
 "nbformat_minor": 5
}
