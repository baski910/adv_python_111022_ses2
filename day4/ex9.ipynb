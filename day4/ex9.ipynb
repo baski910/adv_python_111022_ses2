{
 "cells": [
  {
   "cell_type": "code",
   "execution_count": 5,
   "id": "b87dc5ea",
   "metadata": {},
   "outputs": [
    {
     "name": "stdout",
     "output_type": "stream",
     "text": [
      "/home/baskar/pythonexamples/chapter_wise_notes/14_10_2022_ses2\n",
      "['dir1', 'demo_2.jpg', 'ex3.ipynb', 'ex2.ipynb', 'hello.py', 'readme.txt', 'image_1.jpg', 'mypackage1', 'ex5.ipynb', 'myfile2.txt', 'ex9.ipynb', 'ex4.ipynb', 'ex1.ipynb', 'ex8.ipynb', 'ex7.ipynb', 'myfile1.txt', 'ex6.ipynb', '.ipynb_checkpoints', '__pycache__']\n",
      "os.stat_result(st_mode=33188, st_ino=31204809, st_dev=2056, st_nlink=1, st_uid=1000, st_gid=1000, st_size=280, st_atime=1665753075, st_mtime=1665753020, st_ctime=1665753020)\n"
     ]
    }
   ],
   "source": [
    "# standard modules in python\n",
    "# os,sys, datetime, random\n",
    "import os\n",
    "\n",
    "#print(dir(os))\n",
    "\n",
    "#get the current working directory\n",
    "print(os.getcwd())\n",
    "\n",
    "curdir = os.getcwd()\n",
    "\n",
    "# create a directory\n",
    "if not os.path.exists('dir1'):\n",
    "    os.mkdir('dir1')\n",
    "    \n",
    "# get the list of files/directories from given path\n",
    "contents = os.listdir('.') # . (dot) - refers current directory\n",
    "\n",
    "print(contents)\n",
    "\n",
    "# get the metadata of a file. The return value is a list\n",
    "print(os.stat('hello.py'))"
   ]
  },
  {
   "cell_type": "code",
   "execution_count": 13,
   "id": "80bc4aa1",
   "metadata": {},
   "outputs": [
    {
     "name": "stdout",
     "output_type": "stream",
     "text": [
      "/home/baskar/pythonexamples/chapter_wise_notes/14_10_2022_ses2/demo_2.jpg 61653 Fri Oct 14 17:15:04 2022\n",
      "/home/baskar/pythonexamples/chapter_wise_notes/14_10_2022_ses2/ex3.ipynb 3984 Fri Oct 14 17:46:07 2022\n",
      "/home/baskar/pythonexamples/chapter_wise_notes/14_10_2022_ses2/ex2.ipynb 4138 Fri Oct 14 17:26:15 2022\n",
      "/home/baskar/pythonexamples/chapter_wise_notes/14_10_2022_ses2/hello.py 280 Fri Oct 14 18:40:20 2022\n",
      "/home/baskar/pythonexamples/chapter_wise_notes/14_10_2022_ses2/readme.txt 1723 Fri Oct 14 17:33:52 2022\n",
      "/home/baskar/pythonexamples/chapter_wise_notes/14_10_2022_ses2/image_1.jpg 0 Fri Oct 14 17:22:33 2022\n",
      "/home/baskar/pythonexamples/chapter_wise_notes/14_10_2022_ses2/ex5.ipynb 2031 Fri Oct 14 18:19:05 2022\n",
      "/home/baskar/pythonexamples/chapter_wise_notes/14_10_2022_ses2/myfile2.txt 53 Fri Oct 14 17:12:17 2022\n",
      "/home/baskar/pythonexamples/chapter_wise_notes/14_10_2022_ses2/ex9.ipynb 3921 Fri Oct 14 19:27:36 2022\n",
      "/home/baskar/pythonexamples/chapter_wise_notes/14_10_2022_ses2/ex4.ipynb 1359 Fri Oct 14 17:57:40 2022\n",
      "/home/baskar/pythonexamples/chapter_wise_notes/14_10_2022_ses2/ex1.ipynb 1957 Fri Oct 14 17:16:32 2022\n",
      "/home/baskar/pythonexamples/chapter_wise_notes/14_10_2022_ses2/ex8.ipynb 1183 Fri Oct 14 18:53:53 2022\n",
      "/home/baskar/pythonexamples/chapter_wise_notes/14_10_2022_ses2/ex7.ipynb 1000 Fri Oct 14 18:42:28 2022\n",
      "/home/baskar/pythonexamples/chapter_wise_notes/14_10_2022_ses2/myfile1.txt 106 Fri Oct 14 17:14:00 2022\n",
      "/home/baskar/pythonexamples/chapter_wise_notes/14_10_2022_ses2/ex6.ipynb 1667 Fri Oct 14 18:32:56 2022\n"
     ]
    }
   ],
   "source": [
    "import time\n",
    "for file in contents:\n",
    "    filepath = os.path.join(curdir,file)\n",
    "    if os.path.isfile(filepath):\n",
    "        modtime = time.asctime(time.localtime(os.stat(filepath)[8]))\n",
    "        print(filepath,os.stat(filepath)[6],modtime)"
   ]
  },
  {
   "cell_type": "code",
   "execution_count": null,
   "id": "7fb8ba8b",
   "metadata": {},
   "outputs": [],
   "source": []
  }
 ],
 "metadata": {
  "kernelspec": {
   "display_name": "Python 3 (ipykernel)",
   "language": "python",
   "name": "python3"
  },
  "language_info": {
   "codemirror_mode": {
    "name": "ipython",
    "version": 3
   },
   "file_extension": ".py",
   "mimetype": "text/x-python",
   "name": "python",
   "nbconvert_exporter": "python",
   "pygments_lexer": "ipython3",
   "version": "3.7.3"
  }
 },
 "nbformat": 4,
 "nbformat_minor": 5
}
