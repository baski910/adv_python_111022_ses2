{
 "cells": [
  {
   "cell_type": "code",
   "execution_count": 2,
   "id": "e645f04c",
   "metadata": {},
   "outputs": [
    {
     "name": "stdout",
     "output_type": "stream",
     "text": [
      "elements of list1: [10, 20, 30, 40, 50]\n",
      "size of list1: 5\n",
      "element removed: 40\n",
      "#################### after pop ####################\n",
      "elements of list1: [10, 20, 30, 50]\n",
      "size of list1: 4\n"
     ]
    }
   ],
   "source": [
    "\"\"\"Examples for pop\"\"\"\n",
    "\n",
    "list1 = [10,20,30,40,50]\n",
    "\n",
    "print(\"elements of list1:\",list1)\n",
    "print(\"size of list1:\", len(list1))\n",
    "\n",
    "#element = list1.pop()\n",
    "element = list1.pop(3)\n",
    "\n",
    "print(\"element removed:\", element)\n",
    "print(\"#\"*20+\" after pop \"+\"#\"*20)\n",
    "print(\"elements of list1:\",list1)\n",
    "print(\"size of list1:\", len(list1))"
   ]
  },
  {
   "cell_type": "code",
   "execution_count": 4,
   "id": "1750970f",
   "metadata": {},
   "outputs": [
    {
     "name": "stdout",
     "output_type": "stream",
     "text": [
      "elements of list1: [10, 20, 30, 40, 50]\n",
      "size of list1: 5\n"
     ]
    },
    {
     "ename": "ValueError",
     "evalue": "list.remove(x): x not in list",
     "output_type": "error",
     "traceback": [
      "\u001b[0;31m---------------------------------------------------------------------------\u001b[0m",
      "\u001b[0;31mValueError\u001b[0m                                Traceback (most recent call last)",
      "\u001b[0;32m/tmp/ipykernel_8879/2030077782.py\u001b[0m in \u001b[0;36m<module>\u001b[0;34m\u001b[0m\n\u001b[1;32m      7\u001b[0m \u001b[0;34m\u001b[0m\u001b[0m\n\u001b[1;32m      8\u001b[0m \u001b[0;31m#list1.remove(20)\u001b[0m\u001b[0;34m\u001b[0m\u001b[0;34m\u001b[0m\u001b[0;34m\u001b[0m\u001b[0m\n\u001b[0;32m----> 9\u001b[0;31m \u001b[0mlist1\u001b[0m\u001b[0;34m.\u001b[0m\u001b[0mremove\u001b[0m\u001b[0;34m(\u001b[0m\u001b[0;36m70\u001b[0m\u001b[0;34m)\u001b[0m \u001b[0;31m# results in error\u001b[0m\u001b[0;34m\u001b[0m\u001b[0;34m\u001b[0m\u001b[0m\n\u001b[0m\u001b[1;32m     10\u001b[0m \u001b[0;34m\u001b[0m\u001b[0m\n\u001b[1;32m     11\u001b[0m \u001b[0mprint\u001b[0m\u001b[0;34m(\u001b[0m\u001b[0;34m\"#\"\u001b[0m\u001b[0;34m*\u001b[0m\u001b[0;36m20\u001b[0m\u001b[0;34m+\u001b[0m\u001b[0;34m\" after remove \"\u001b[0m\u001b[0;34m+\u001b[0m\u001b[0;34m\"#\"\u001b[0m\u001b[0;34m*\u001b[0m\u001b[0;36m20\u001b[0m\u001b[0;34m)\u001b[0m\u001b[0;34m\u001b[0m\u001b[0;34m\u001b[0m\u001b[0m\n",
      "\u001b[0;31mValueError\u001b[0m: list.remove(x): x not in list"
     ]
    }
   ],
   "source": [
    "\"\"\"Examples for remove\"\"\"\n",
    "\n",
    "list1 = [10,20,30,40,50]\n",
    "\n",
    "print(\"elements of list1:\",list1)\n",
    "print(\"size of list1:\", len(list1))\n",
    "\n",
    "#list1.remove(20)\n",
    "list1.remove(70) # results in error\n",
    "\n",
    "print(\"#\"*20+\" after remove \"+\"#\"*20)\n",
    "\n",
    "print(\"elements of list1:\",list1)\n",
    "print(\"size of list1:\", len(list1))"
   ]
  },
  {
   "cell_type": "code",
   "execution_count": 5,
   "id": "0074217c",
   "metadata": {},
   "outputs": [
    {
     "name": "stdout",
     "output_type": "stream",
     "text": [
      "elements of list1: [10, 20, 30, 40, 20, 50, 20]\n",
      "size of list1: 7\n",
      "#################### after pop ####################\n",
      "elements of list1: [10, 30, 40, 20, 50, 20]\n",
      "size of list1: 6\n"
     ]
    }
   ],
   "source": [
    "# remove functions removes only the first occurance\n",
    "list1 = [10,20,30,40,20,50,20]\n",
    "\n",
    "print(\"elements of list1:\",list1)\n",
    "print(\"size of list1:\", len(list1))\n",
    "\n",
    "list1.remove(20)\n",
    "\n",
    "print(\"#\"*20+\" after pop \"+\"#\"*20)\n",
    "\n",
    "print(\"elements of list1:\",list1)\n",
    "print(\"size of list1:\", len(list1))"
   ]
  },
  {
   "cell_type": "code",
   "execution_count": null,
   "id": "89820fe1",
   "metadata": {},
   "outputs": [],
   "source": []
  }
 ],
 "metadata": {
  "kernelspec": {
   "display_name": "Python 3 (ipykernel)",
   "language": "python",
   "name": "python3"
  },
  "language_info": {
   "codemirror_mode": {
    "name": "ipython",
    "version": 3
   },
   "file_extension": ".py",
   "mimetype": "text/x-python",
   "name": "python",
   "nbconvert_exporter": "python",
   "pygments_lexer": "ipython3",
   "version": "3.7.3"
  }
 },
 "nbformat": 4,
 "nbformat_minor": 5
}
