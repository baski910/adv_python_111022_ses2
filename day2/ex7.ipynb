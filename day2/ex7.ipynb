{
 "cells": [
  {
   "cell_type": "code",
   "execution_count": 2,
   "id": "b45ff773",
   "metadata": {},
   "outputs": [
    {
     "name": "stdout",
     "output_type": "stream",
     "text": [
      "0 a\n",
      "1 b\n",
      "2 c\n",
      "3 d\n",
      "4 e\n",
      "5 f\n"
     ]
    }
   ],
   "source": [
    "# list enumeration\n",
    "# enumerate - Built-in function. Takes sequence as argument and returns index and value as \n",
    "#             a tuple.\n",
    "#             optionally takes second argument as start index\n",
    "\n",
    "list1 = ['a','b','c','d','e','f'] \n",
    "#         0   1   2   3   4   5\n",
    "\n",
    "for num,c in enumerate(list1):\n",
    "    print(num,c)"
   ]
  },
  {
   "cell_type": "code",
   "execution_count": 5,
   "id": "8050bdf6",
   "metadata": {},
   "outputs": [
    {
     "name": "stdout",
     "output_type": "stream",
     "text": [
      "   a result of a setting in your ~/.vimrc before reporting it.\n",
      "\t\n",
      "\t -- Stefano Zacchiroli <zack@debian.org>   Mon, 10 Apr 2006 09:59:41 -0400\n",
      "\t\n",
      "\tMzScheme Vim variant\n",
      "\t--------------------\n",
      "\t\n",
      "\tAs requested by the current MzScheme maintainer (Ari Pollak <ari@debian.org>),\n",
      "\ta vim-mzscheme variant is not being built.  The reasons stated are as follows:\n",
      "\t\n",
      "\t  1) MzScheme does not build on many of Debian's supported architectures.\n",
      "\t\n",
      "\t  2) The MzScheme package is not versioned based on the library.\n",
      "\t\n",
      "\t  3) The MzScheme ABI changes with every upstream version.\n",
      "\t\n",
      "\t"
     ]
    }
   ],
   "source": [
    "# use case for enumerate\n",
    "\n",
    "fh = open('readme.txt','r')\n",
    "for num,line in enumerate(fh.readlines(),1):\n",
    "    if num>=10 and num<=25:\n",
    "        print(line,end='\\t')\n",
    "fh.close()"
   ]
  },
  {
   "cell_type": "code",
   "execution_count": null,
   "id": "9bd350d4",
   "metadata": {},
   "outputs": [],
   "source": []
  }
 ],
 "metadata": {
  "kernelspec": {
   "display_name": "Python 3 (ipykernel)",
   "language": "python",
   "name": "python3"
  },
  "language_info": {
   "codemirror_mode": {
    "name": "ipython",
    "version": 3
   },
   "file_extension": ".py",
   "mimetype": "text/x-python",
   "name": "python",
   "nbconvert_exporter": "python",
   "pygments_lexer": "ipython3",
   "version": "3.7.3"
  }
 },
 "nbformat": 4,
 "nbformat_minor": 5
}
