{
 "cells": [
  {
   "cell_type": "code",
   "execution_count": 2,
   "id": "44a72216",
   "metadata": {},
   "outputs": [
    {
     "name": "stdout",
     "output_type": "stream",
     "text": [
      "reference of list1: 140187599494856\n",
      "reference of list2: 140187599494536\n",
      "reference of element at index 2: 140187599494728\n",
      "reference of element at index 2: 140187599494728\n",
      "elements of list1: ['a', 'b', ['c', 'd'], 'e', 'f']\n",
      "elements of list2: ['a', 'b', ['c', 'd'], 'e', 'f']\n",
      "####################after modification####################\n",
      "reference of element at index 2: 140187599494728\n",
      "reference of element at index 2: 140187599494728\n",
      "elements of list1: ['a', 'b', ['c', 'g'], 'e', 'f']\n",
      "elements of list2: ['a', 'b', ['c', 'g'], 'e', 'f']\n"
     ]
    }
   ],
   "source": [
    "\"\"\"shallow copy with mutable object\"\"\"\n",
    "\"\"\"\n",
    "In shallow copy, the lists get different references however, \n",
    "the inner elements have the same reference\n",
    "\n",
    "In case of shallow copy, the modification made to one list may affect other \n",
    "list depending on the elements being immutable or mutable object. \n",
    "If the element is an immutable object, the changes will not be reflected,\n",
    "otherwise it will be reflected\n",
    "\"\"\"\n",
    "\n",
    "list1 = ['a','b',['c','d'],'e','f']  # the list elements can be of any data type. need not be of same datatype\n",
    "\n",
    "# in below assignment list2 is created with different reference\n",
    "list2 = list1[:]  # list2 = list1.copy()\n",
    "\n",
    "print(\"reference of list1:\",id(list1))\n",
    "print(\"reference of list2:\",id(list2))\n",
    "\n",
    "print(\"reference of element at index 2:\",id(list1[2]))\n",
    "print(\"reference of element at index 2:\",id(list2[2]))\n",
    "\n",
    "print(\"elements of list1:\",list1)\n",
    "print(\"elements of list2:\",list2)\n",
    "\n",
    "list2[2][1] = 'g'\n",
    "\n",
    "print(\"#\"*20+\"after modification\"+\"#\"*20)\n",
    "\n",
    "print(\"reference of element at index 2:\",id(list1[2]))\n",
    "print(\"reference of element at index 2:\",id(list2[2]))\n",
    "\n",
    "print(\"elements of list1:\",list1)\n",
    "print(\"elements of list2:\",list2)"
   ]
  },
  {
   "cell_type": "code",
   "execution_count": null,
   "id": "a8b723ef",
   "metadata": {},
   "outputs": [],
   "source": []
  }
 ],
 "metadata": {
  "kernelspec": {
   "display_name": "Python 3 (ipykernel)",
   "language": "python",
   "name": "python3"
  },
  "language_info": {
   "codemirror_mode": {
    "name": "ipython",
    "version": 3
   },
   "file_extension": ".py",
   "mimetype": "text/x-python",
   "name": "python",
   "nbconvert_exporter": "python",
   "pygments_lexer": "ipython3",
   "version": "3.7.3"
  }
 },
 "nbformat": 4,
 "nbformat_minor": 5
}
