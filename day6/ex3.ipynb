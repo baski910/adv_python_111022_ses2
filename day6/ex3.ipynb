{
 "cells": [
  {
   "cell_type": "code",
   "execution_count": null,
   "id": "83f72668",
   "metadata": {},
   "outputs": [],
   "source": [
    "# filtering dataframe\n",
    "# iloc - row index/column index for filtering\n",
    "# loc - row values for filtering\n",
    "\n",
    "import pandas as pd\n",
    "\n",
    "df = pd.read_csv('uk-500.csv') # pd.read_excel('')\n",
    "\n",
    "# get the first row\n",
    "print(df.iloc[0])"
   ]
  },
  {
   "cell_type": "code",
   "execution_count": null,
   "id": "067428cb",
   "metadata": {},
   "outputs": [],
   "source": [
    "# get the last row\n",
    "print(df.iloc[-1])"
   ]
  },
  {
   "cell_type": "code",
   "execution_count": null,
   "id": "d22ce372",
   "metadata": {},
   "outputs": [],
   "source": [
    "# select range of rows\n",
    "print(df.iloc[21:35])"
   ]
  },
  {
   "cell_type": "code",
   "execution_count": null,
   "id": "6b7381f2",
   "metadata": {},
   "outputs": [],
   "source": [
    "# get selective rows\n",
    "print(df.iloc[[7,25,36,41,54]])"
   ]
  },
  {
   "cell_type": "code",
   "execution_count": null,
   "id": "e2749b9f",
   "metadata": {},
   "outputs": [],
   "source": [
    "# get the second column\n",
    "print(df.iloc[:,2])"
   ]
  },
  {
   "cell_type": "code",
   "execution_count": null,
   "id": "52a0846f",
   "metadata": {},
   "outputs": [],
   "source": [
    "# get range of columns\n",
    "print(df.iloc[:,2:5])"
   ]
  },
  {
   "cell_type": "code",
   "execution_count": null,
   "id": "da76ec43",
   "metadata": {},
   "outputs": [],
   "source": [
    "# get range of columns\n",
    "print(df.iloc[:,[3,6,7]])"
   ]
  },
  {
   "cell_type": "code",
   "execution_count": null,
   "id": "941f6d10",
   "metadata": {},
   "outputs": [],
   "source": [
    "# filtering using row values\n",
    "print(df.loc[df['first_name'].str.contains('Marg')])"
   ]
  },
  {
   "cell_type": "code",
   "execution_count": null,
   "id": "26ce2e2e",
   "metadata": {},
   "outputs": [],
   "source": [
    "# select all rows where email ends with gmail\n",
    "print(df.loc[df['email'].str.endswith('gmail.com')])"
   ]
  },
  {
   "cell_type": "code",
   "execution_count": null,
   "id": "7c6d1be6",
   "metadata": {},
   "outputs": [],
   "source": [
    "# select all rows where email ends with gmail also display only first_name, last_name and email\n",
    "print(df.loc[df['email'].str.endswith('gmail.com'),['first_name','last_name','email']])"
   ]
  },
  {
   "cell_type": "code",
   "execution_count": 12,
   "id": "45a5545c",
   "metadata": {},
   "outputs": [
    {
     "name": "stdout",
     "output_type": "stream",
     "text": [
      "    id first_name last_name         company_name       address  \\\n",
      "2  3.0     France   Andrade  Elliott, John W Esq  8 Moor Place   \n",
      "\n",
      "                             city       county   postal        phone1  \\\n",
      "2  East Southbourne and Tuckton W  Bournemouth  BH6 3BE  01347-368222   \n",
      "\n",
      "         phone2                       email                               web  \\\n",
      "2  01935-821636  france.andrade@hotmail.com  http://www.elliottjohnwesq.co.uk   \n",
      "\n",
      "     in  out  \n",
      "2  9:46  NaN  \n"
     ]
    }
   ],
   "source": [
    "# update a column value using condition\n",
    "print(df.loc[df['first_name']=='France'])\n"
   ]
  },
  {
   "cell_type": "code",
   "execution_count": null,
   "id": "4e90894e",
   "metadata": {},
   "outputs": [],
   "source": []
  }
 ],
 "metadata": {
  "kernelspec": {
   "display_name": "Python 3 (ipykernel)",
   "language": "python",
   "name": "python3"
  },
  "language_info": {
   "codemirror_mode": {
    "name": "ipython",
    "version": 3
   },
   "file_extension": ".py",
   "mimetype": "text/x-python",
   "name": "python",
   "nbconvert_exporter": "python",
   "pygments_lexer": "ipython3",
   "version": "3.7.3"
  }
 },
 "nbformat": 4,
 "nbformat_minor": 5
}
