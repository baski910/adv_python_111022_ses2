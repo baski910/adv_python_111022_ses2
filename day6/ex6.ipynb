{
 "cells": [
  {
   "cell_type": "code",
   "execution_count": 7,
   "id": "1c611bea",
   "metadata": {},
   "outputs": [
    {
     "name": "stdout",
     "output_type": "stream",
     "text": [
      "    name  mark  age grade\n",
      "0  alice    83   21     B\n",
      "1    joe    96   20     A\n",
      "2    raj    78   21     B\n",
      "3   mahi    40   20   NaN\n",
      "4    tom    63   21     C\n",
      "5    pat    72   21     C\n",
      "6    bob    84   20     B\n"
     ]
    }
   ],
   "source": [
    "# cut - pandas function used for classification\n",
    "\n",
    "import pandas as pd\n",
    "\n",
    "data = {\n",
    "    'name': ['alice','joe','raj','mahi','tom','pat','bob'],\n",
    "    'mark': [83,96,78,40,63,72,84],\n",
    "    'age': [21,20,21,20,21,21,20]\n",
    "}\n",
    "\n",
    "df = pd.DataFrame(data)\n",
    "\n",
    "#print(df)\n",
    "\n",
    "df['grade'] = pd.cut(df['mark'],bins=[50,60,75,90,100],labels=['D','C','B','A'])\n",
    "\n",
    "print(df)"
   ]
  },
  {
   "cell_type": "code",
   "execution_count": null,
   "id": "0d105440",
   "metadata": {},
   "outputs": [],
   "source": []
  }
 ],
 "metadata": {
  "kernelspec": {
   "display_name": "Python 3 (ipykernel)",
   "language": "python",
   "name": "python3"
  },
  "language_info": {
   "codemirror_mode": {
    "name": "ipython",
    "version": 3
   },
   "file_extension": ".py",
   "mimetype": "text/x-python",
   "name": "python",
   "nbconvert_exporter": "python",
   "pygments_lexer": "ipython3",
   "version": "3.7.3"
  }
 },
 "nbformat": 4,
 "nbformat_minor": 5
}
