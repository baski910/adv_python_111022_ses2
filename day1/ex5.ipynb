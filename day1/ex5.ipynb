{
 "cells": [
  {
   "cell_type": "code",
   "execution_count": 6,
   "id": "3b76d2f1",
   "metadata": {},
   "outputs": [
    {
     "name": "stdout",
     "output_type": "stream",
     "text": [
      "elements of list1: [10, 20, 30, 40]\n",
      "size of list1: 4\n",
      "#################### after append ####################\n",
      "elements of list1: [10, 20, 30, 40, (50, 60, 70)]\n",
      "5\n"
     ]
    }
   ],
   "source": [
    "\"\"\"Examples for adding elements to list\"\"\"\n",
    "\n",
    "list1 = [10,20,30,40]\n",
    "\n",
    "print(\"elements of list1:\",list1)\n",
    "print(\"size of list1:\",len(list1))\n",
    "\n",
    "#list1.append(50)\n",
    "list1.append((50,60,70))\n",
    "\n",
    "print(\"#\"*20+\" after append \"+\"#\"*20)\n",
    "\n",
    "print(\"elements of list1:\",list1)\n",
    "print(len(list1))\n",
    "\n"
   ]
  },
  {
   "cell_type": "code",
   "execution_count": 7,
   "id": "aa47bf27",
   "metadata": {},
   "outputs": [
    {
     "name": "stdout",
     "output_type": "stream",
     "text": [
      "elements of list1: [10, 20, 30, 40]\n",
      "size of list1: 4\n",
      "#################### after append ####################\n",
      "elements of list1: [10, 20, 30, 40, 'a', 'p', 'p', 'l', 'e']\n",
      "9\n"
     ]
    }
   ],
   "source": [
    "\"\"\"Examples for adding elements to list\"\"\"\n",
    "\n",
    "list1 = [10,20,30,40]\n",
    "\n",
    "print(\"elements of list1:\",list1)\n",
    "print(\"size of list1:\",len(list1))\n",
    "\n",
    "#list1.append(50)\n",
    "list1.extend((50,60,70))\n",
    "#list1.extend(\"apple\")\n",
    "\n",
    "print(\"#\"*20+\" after append \"+\"#\"*20)\n",
    "\n",
    "print(\"elements of list1:\",list1)\n",
    "print(len(list1))"
   ]
  },
  {
   "cell_type": "code",
   "execution_count": 10,
   "id": "f60456d0",
   "metadata": {},
   "outputs": [
    {
     "name": "stdout",
     "output_type": "stream",
     "text": [
      "elements of list1: [10, 20, 30, 40]\n",
      "size of list1: 4\n",
      "#################### after insert ####################\n",
      "elements of list1: [10, 20, 'apple', 30, 40]\n",
      "5\n"
     ]
    }
   ],
   "source": [
    "\n",
    "list1 = [10,20,30,40]\n",
    "\n",
    "print(\"elements of list1:\",list1)\n",
    "print(\"size of list1:\",len(list1))\n",
    "\n",
    "#list1.insert(2,50)\n",
    "#list1.insert(2,(50,60,70))\n",
    "list1.insert(2,\"apple\")\n",
    "\n",
    "\n",
    "print(\"#\"*20+\" after insert \"+\"#\"*20)\n",
    "\n",
    "print(\"elements of list1:\",list1)\n",
    "print(len(list1))"
   ]
  },
  {
   "cell_type": "code",
   "execution_count": null,
   "id": "889e1e18",
   "metadata": {},
   "outputs": [],
   "source": []
  }
 ],
 "metadata": {
  "kernelspec": {
   "display_name": "Python 3 (ipykernel)",
   "language": "python",
   "name": "python3"
  },
  "language_info": {
   "codemirror_mode": {
    "name": "ipython",
    "version": 3
   },
   "file_extension": ".py",
   "mimetype": "text/x-python",
   "name": "python",
   "nbconvert_exporter": "python",
   "pygments_lexer": "ipython3",
   "version": "3.7.3"
  }
 },
 "nbformat": 4,
 "nbformat_minor": 5
}
