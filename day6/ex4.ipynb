{
 "cells": [
  {
   "cell_type": "code",
   "execution_count": 5,
   "id": "e3635740",
   "metadata": {},
   "outputs": [
    {
     "name": "stdout",
     "output_type": "stream",
     "text": [
      "  name  age department departmentname\n",
      "0  tom   21        CSE       Computer\n",
      "1  raj   20        ECE    Electronics\n",
      "2  pat   21         IT    Information\n",
      "3  joe   21       MECH     Mechanical\n"
     ]
    }
   ],
   "source": [
    "# merge - pandas function to merge dataframes\n",
    "import pandas as pd\n",
    "\n",
    "df1 = pd.read_excel('names.xlsx',sheet_name='Sheet1')\n",
    "\n",
    "df2 = pd.read_excel('names.xlsx',sheet_name='Sheet2')\n",
    "\n",
    "#print(df1)\n",
    "\n",
    "#print(df2)\n",
    "\n",
    "df3 = pd.merge(df1,df2,on='department') # equi join\n",
    "print(df3)"
   ]
  },
  {
   "cell_type": "code",
   "execution_count": 6,
   "id": "68a9dba3",
   "metadata": {},
   "outputs": [
    {
     "name": "stdout",
     "output_type": "stream",
     "text": [
      "   name  age department departmentname\n",
      "0   tom   21        CSE       Computer\n",
      "1   raj   20        ECE    Electronics\n",
      "2   pat   21         IT    Information\n",
      "3   joe   21       MECH     Mechanical\n",
      "4  mahi   20        EEE            NaN\n"
     ]
    }
   ],
   "source": [
    "df3 = pd.merge(df1,df2,on='department',how='left') # left join\n",
    "print(df3)"
   ]
  },
  {
   "cell_type": "code",
   "execution_count": 7,
   "id": "85524a36",
   "metadata": {},
   "outputs": [
    {
     "name": "stdout",
     "output_type": "stream",
     "text": [
      "  name   age department departmentname\n",
      "0  tom  21.0        CSE       Computer\n",
      "1  raj  20.0        ECE    Electronics\n",
      "2  pat  21.0         IT    Information\n",
      "3  joe  21.0       MECH     Mechanical\n",
      "4  NaN   NaN       CHEM       Chemical\n"
     ]
    }
   ],
   "source": [
    "df3 = pd.merge(df1,df2,on='department',how='right') # right join\n",
    "print(df3)"
   ]
  },
  {
   "cell_type": "code",
   "execution_count": 8,
   "id": "04de3fbb",
   "metadata": {},
   "outputs": [
    {
     "name": "stdout",
     "output_type": "stream",
     "text": [
      "   name   age department departmentname\n",
      "0   tom  21.0        CSE       Computer\n",
      "1   raj  20.0        ECE    Electronics\n",
      "2   pat  21.0         IT    Information\n",
      "3   joe  21.0       MECH     Mechanical\n",
      "4  mahi  20.0        EEE            NaN\n",
      "5   NaN   NaN       CHEM       Chemical\n"
     ]
    }
   ],
   "source": [
    "df3 = pd.merge(df1,df2,on='department',how='outer') # outer join\n",
    "print(df3)"
   ]
  },
  {
   "cell_type": "code",
   "execution_count": null,
   "id": "e20804f0",
   "metadata": {},
   "outputs": [],
   "source": []
  }
 ],
 "metadata": {
  "kernelspec": {
   "display_name": "Python 3 (ipykernel)",
   "language": "python",
   "name": "python3"
  },
  "language_info": {
   "codemirror_mode": {
    "name": "ipython",
    "version": 3
   },
   "file_extension": ".py",
   "mimetype": "text/x-python",
   "name": "python",
   "nbconvert_exporter": "python",
   "pygments_lexer": "ipython3",
   "version": "3.7.3"
  }
 },
 "nbformat": 4,
 "nbformat_minor": 5
}
