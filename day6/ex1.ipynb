{
 "cells": [
  {
   "cell_type": "code",
   "execution_count": 3,
   "id": "0ea52ed5",
   "metadata": {},
   "outputs": [
    {
     "name": "stdout",
     "output_type": "stream",
     "text": [
      "0        81\n",
      "1        46\n",
      "2        73\n",
      "3    python\n",
      "4        38\n",
      "5        91\n",
      "6       c++\n",
      "dtype: object\n"
     ]
    }
   ],
   "source": [
    "#It has mainly two variables namely Series and DataFrame\n",
    "\n",
    "#Series is equivalent to list, but additionally has index\n",
    "\n",
    "#DataFrame is equivalent to spreadsheet i.e., it consists of rows and columns\n",
    "import pandas as pd\n",
    "\n",
    "s1 = pd.Series([81,46,73,'python',38,91,'c++'])\n",
    "\n",
    "print(s1)"
   ]
  },
  {
   "cell_type": "code",
   "execution_count": 4,
   "id": "740af66f",
   "metadata": {},
   "outputs": [
    {
     "name": "stdout",
     "output_type": "stream",
     "text": [
      "A        81\n",
      "B        46\n",
      "C        73\n",
      "D    python\n",
      "E        38\n",
      "F        91\n",
      "G       c++\n",
      "dtype: object\n"
     ]
    }
   ],
   "source": [
    "# create a pandas series with custom index\n",
    "s1 = pd.Series([81,46,73,'python',38,91,'c++'], index=['A','B','C','D','E','F','G'])\n",
    "\n",
    "print(s1)"
   ]
  },
  {
   "cell_type": "code",
   "execution_count": null,
   "id": "17cbb483",
   "metadata": {},
   "outputs": [],
   "source": [
    "import matplotlib.pyplot as plt\n",
    "# matplotlib.org\n",
    "s1 = pd.Series([81,46,73,50,38,91,82], index=['Jan','Feb','Mar','Apr','May','Jun','Jul'])\n",
    "\n",
    "s1.plot(kind='bar')\n",
    "plt.show()"
   ]
  },
  {
   "cell_type": "code",
   "execution_count": 7,
   "id": "f72c3788",
   "metadata": {},
   "outputs": [
    {
     "name": "stdout",
     "output_type": "stream",
     "text": [
      "           0    1    2   3\n",
      "0  Jones LLC  150  200  50\n",
      "1   Alpha Co  200  210  90\n",
      "2   Blue Inc  140  215  95\n"
     ]
    }
   ],
   "source": [
    "sales = [('Jones LLC', 150, 200, 50),\n",
    "         ('Alpha Co', 200, 210, 90),\n",
    "         ('Blue Inc', 140, 215, 95)]\n",
    "\n",
    "df = pd.DataFrame(sales)\n",
    "\n",
    "print(df)"
   ]
  },
  {
   "cell_type": "code",
   "execution_count": 8,
   "id": "2f5bdfd0",
   "metadata": {},
   "outputs": [
    {
     "name": "stdout",
     "output_type": "stream",
     "text": [
      "     Account  Jul  Aug  Sep\n",
      "0  Jones LLC  150  200   50\n",
      "1   Alpha Co  200  210   90\n",
      "2   Blue Inc  140  215   95\n"
     ]
    }
   ],
   "source": [
    "# dataframe with custom column index\n",
    "sales = [('Jones LLC', 150, 200, 50),\n",
    "         ('Alpha Co', 200, 210, 90),\n",
    "         ('Blue Inc', 140, 215, 95)]\n",
    "\n",
    "df = pd.DataFrame(sales,columns=['Account','Jul','Aug','Sep'])\n",
    "\n",
    "# df.columns = []\n",
    "\n",
    "print(df)"
   ]
  },
  {
   "cell_type": "code",
   "execution_count": 11,
   "id": "1062c0b4",
   "metadata": {},
   "outputs": [
    {
     "name": "stdout",
     "output_type": "stream",
     "text": [
      "     Account  Jul  Aug  Sep\n",
      "0  Jones LLC  150  200   50\n",
      "1   Alpha Co  200  210   90\n",
      "2   Blue Inc  140  215   95\n",
      "           Jul  Aug  Sep\n",
      "Account                 \n",
      "Jones LLC  150  200   50\n",
      "Alpha Co   200  210   90\n",
      "Blue Inc   140  215   95\n"
     ]
    },
    {
     "data": {
      "image/png": "[encoded data removed]",
      "text/plain": [
       "<Figure size 432x288 with 1 Axes>"
      ]
     },
     "metadata": {
      "needs_background": "light"
     },
     "output_type": "display_data"
    }
   ],
   "source": [
    "# modify index using dataframe column\n",
    "sales = [('Jones LLC', 150, 200, 50),\n",
    "         ('Alpha Co', 200, 210, 90),\n",
    "         ('Blue Inc', 140, 215, 95)]\n",
    "\n",
    "df = pd.DataFrame(sales,columns=['Account','Jul','Aug','Sep'])\n",
    "\n",
    "# df.columns = []\n",
    "\n",
    "print(df)\n",
    "\n",
    "df = df.set_index('Account')\n",
    "\n",
    "print(df)\n",
    "\n",
    "df.plot(kind='bar')\n",
    "plt.show()"
   ]
  },
  {
   "cell_type": "code",
   "execution_count": null,
   "id": "ea3029e9",
   "metadata": {},
   "outputs": [],
   "source": []
  }
 ],
 "metadata": {
  "kernelspec": {
   "display_name": "Python 3 (ipykernel)",
   "language": "python",
   "name": "python3"
  },
  "language_info": {
   "codemirror_mode": {
    "name": "ipython",
    "version": 3
   },
   "file_extension": ".py",
   "mimetype": "text/x-python",
   "name": "python",
   "nbconvert_exporter": "python",
   "pygments_lexer": "ipython3",
   "version": "3.7.3"
  }
 },
 "nbformat": 4,
 "nbformat_minor": 5
}
