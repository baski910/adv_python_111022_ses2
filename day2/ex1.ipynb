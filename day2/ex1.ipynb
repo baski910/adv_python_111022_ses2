{
 "cells": [
  {
   "cell_type": "code",
   "execution_count": 1,
   "id": "2b330b80",
   "metadata": {},
   "outputs": [
    {
     "name": "stdout",
     "output_type": "stream",
     "text": [
      "before sorting: [79, 134, 56, 10, 9, 613, 84, 95, 472, 861, 720, 49, 516, 65]\n",
      "after sorting: [9, 10, 49, 56, 65, 79, 84, 95, 134, 472, 516, 613, 720, 861]\n"
     ]
    }
   ],
   "source": [
    "# sorting lists\n",
    "\"\"\"Example for sort\"\"\"\n",
    "\n",
    "list1 = [79,134,56,10,9,613,84,95,472,861,720,49,516,65]\n",
    "\n",
    "print(\"before sorting:\",list1)\n",
    "\n",
    "list1.sort()\n",
    "\n",
    "print(\"after sorting:\",list1)"
   ]
  },
  {
   "cell_type": "code",
   "execution_count": 3,
   "id": "09a49f68",
   "metadata": {},
   "outputs": [
    {
     "name": "stdout",
     "output_type": "stream",
     "text": [
      "before sorting: [79, 134, 56, 10, 9, 613, 84, 95, 472, 861, 720, 49, 516, 65]\n",
      "after sorting: [79, 134, 56, 10, 9, 613, 84, 95, 472, 861, 720, 49, 516, 65]\n",
      "after sorting: [9, 10, 49, 56, 65, 79, 84, 95, 134, 472, 516, 613, 720, 861]\n"
     ]
    }
   ],
   "source": [
    "list1 = [79,134,56,10,9,613,84,95,472,861,720,49,516,65]\n",
    "print(\"before sorting:\",list1)\n",
    "\n",
    "list2 = sorted(list1)\n",
    "\n",
    "print(\"after sorting:\",list1)\n",
    "print(\"after sorting:\",list2)"
   ]
  },
  {
   "cell_type": "code",
   "execution_count": 4,
   "id": "e13a3848",
   "metadata": {},
   "outputs": [
    {
     "name": "stdout",
     "output_type": "stream",
     "text": [
      "before sorting: [79, 134, 56, 10, 9, 613, 84, 95, 472, 861, 720, 49, 516, 65]\n",
      "after sorting: [861, 720, 613, 516, 472, 134, 95, 84, 79, 65, 56, 49, 10, 9]\n"
     ]
    }
   ],
   "source": [
    "# sorting lists\n",
    "\"\"\"Example for sort - reverse order\"\"\"\n",
    "\n",
    "list1 = [79,134,56,10,9,613,84,95,472,861,720,49,516,65]\n",
    "\n",
    "print(\"before sorting:\",list1)\n",
    "\n",
    "list1.sort(reverse=True)\n",
    "\n",
    "print(\"after sorting:\",list1)"
   ]
  },
  {
   "cell_type": "code",
   "execution_count": 5,
   "id": "17e37b0b",
   "metadata": {},
   "outputs": [
    {
     "name": "stdout",
     "output_type": "stream",
     "text": [
      "before sorting: [79, 134, 56, 10, 9, 613, 84, 95, 472, 861, 720, 49, 516, 65]\n",
      "after sorting: [79, 134, 56, 10, 9, 613, 84, 95, 472, 861, 720, 49, 516, 65]\n",
      "after sorting: [861, 720, 613, 516, 472, 134, 95, 84, 79, 65, 56, 49, 10, 9]\n"
     ]
    }
   ],
   "source": [
    "\"\"\"Example for sorted - reverse order\"\"\"\n",
    "\n",
    "list1 = [79,134,56,10,9,613,84,95,472,861,720,49,516,65]\n",
    "\n",
    "print(\"before sorting:\",list1)\n",
    "\n",
    "list2 = sorted(list1,reverse=True)\n",
    "\n",
    "print(\"after sorting:\",list1)\n",
    "print(\"after sorting:\",list2)"
   ]
  },
  {
   "cell_type": "code",
   "execution_count": 11,
   "id": "2cbb8e28",
   "metadata": {},
   "outputs": [
    {
     "name": "stdout",
     "output_type": "stream",
     "text": [
      "before sorting: [79, 134, 35, 56, 10, 28, 9, 613, 84, 95, 100, 472, 386, 861, 251, 720, 49, 'world', 516, 65]\n",
      "after sorting: [10, 100, 134, 251, 28, 35, 386, 472, 49, 516, 56, 613, 65, 720, 79, 84, 861, 9, 95, 'world']\n"
     ]
    }
   ],
   "source": [
    "\"\"\"sorting elements of different data type\"\"\"\n",
    "hello = 100\n",
    "\n",
    "list1 = [79,134,35,56,10,28,9,613,84,95,hello,472,386,861,251,720,49,'world',516,65]\n",
    "\n",
    "print(\"before sorting:\",list1)\n",
    "\n",
    "#list1.sort() # results in error because of elements have different data type\n",
    "\n",
    "list1.sort(key=str) # for element in list1: element = str(element)\n",
    "\n",
    "print(\"after sorting:\",list1)"
   ]
  },
  {
   "cell_type": "code",
   "execution_count": 8,
   "id": "0844ab97",
   "metadata": {},
   "outputs": [
    {
     "name": "stdout",
     "output_type": "stream",
     "text": [
      "<class 'int'>\n",
      "<class 'str'>\n"
     ]
    }
   ],
   "source": [
    "num = 100\n",
    "\n",
    "print(type(num))\n",
    "\n",
    "num = str(num)\n",
    "\n",
    "print(type(num))"
   ]
  },
  {
   "cell_type": "code",
   "execution_count": null,
   "id": "ab3a8372",
   "metadata": {},
   "outputs": [],
   "source": []
  }
 ],
 "metadata": {
  "kernelspec": {
   "display_name": "Python 3 (ipykernel)",
   "language": "python",
   "name": "python3"
  },
  "language_info": {
   "codemirror_mode": {
    "name": "ipython",
    "version": 3
   },
   "file_extension": ".py",
   "mimetype": "text/x-python",
   "name": "python",
   "nbconvert_exporter": "python",
   "pygments_lexer": "ipython3",
   "version": "3.7.3"
  }
 },
 "nbformat": 4,
 "nbformat_minor": 5
}
