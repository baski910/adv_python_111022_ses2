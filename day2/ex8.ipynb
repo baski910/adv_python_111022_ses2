{
 "cells": [
  {
   "cell_type": "code",
   "execution_count": 2,
   "id": "aa484a59",
   "metadata": {},
   "outputs": [
    {
     "name": "stdout",
     "output_type": "stream",
     "text": [
      "{'name': 'alice', 'age': 7, 'class': 'first'}\n",
      "7\n"
     ]
    }
   ],
   "source": [
    "\"\"\"Dictionary examples\"\"\"\n",
    "\n",
    "d1 = {} # creating an empty dictionary\n",
    "\n",
    "d1 = {'name':'alice','age':7,'class':'first'}\n",
    "\n",
    "print(d1)\n",
    "\n",
    "# access a value against a specific key.\n",
    "print(d1['age']) # the output will be 7"
   ]
  },
  {
   "cell_type": "code",
   "execution_count": 3,
   "id": "10bd19cc",
   "metadata": {},
   "outputs": [
    {
     "name": "stdout",
     "output_type": "stream",
     "text": [
      "{'name': 'bob', 'age': 7, 'class': 'first'}\n"
     ]
    }
   ],
   "source": [
    "# repeating a key is not an error, the last pair of key and value will overwrite the previous one\n",
    "d1 = {'name':'alice','age':7,'class':'first','name':'bob'} # the value for the key 'name' will be bob\n",
    "print(d1)"
   ]
  },
  {
   "cell_type": "code",
   "execution_count": 5,
   "id": "a246369e",
   "metadata": {},
   "outputs": [
    {
     "name": "stdout",
     "output_type": "stream",
     "text": [
      "{'name': 'alice', 'age': 7, 'class': 'first'}\n",
      "{'name': 'alice', 'age': 10, 'class': 'first'}\n",
      "{'name': 'bob', 'age': 10, 'class': 'first'}\n"
     ]
    }
   ],
   "source": [
    "\n",
    "d1 = {'name':'alice','age':7,'class':'first'}\n",
    "\n",
    "print(d1)\n",
    "\n",
    "#dictionary values can be updated by simple assignment\n",
    "d1['age']=10\n",
    "\n",
    "# updates the value against the key, if key is present otherwise the key is created\n",
    "print(d1)\n",
    "d1['name']='bob'\n",
    "print(d1)"
   ]
  },
  {
   "cell_type": "code",
   "execution_count": 6,
   "id": "e34684e9",
   "metadata": {},
   "outputs": [
    {
     "name": "stdout",
     "output_type": "stream",
     "text": [
      "{'name': 'alice', 'age': 7, 'class': 'first'}\n",
      "{'name': 'alice', 'age': 7, 'class': 'first', 'lname': 'joe'}\n"
     ]
    }
   ],
   "source": [
    "d1 = {'name':'alice','age':7,'class':'first'}\n",
    "\n",
    "print(d1)\n",
    "\n",
    "d1['lname']='joe'\n",
    "\n",
    "print(d1)\n",
    "\n",
    "#d1 = {'lname':'joe'}"
   ]
  },
  {
   "cell_type": "code",
   "execution_count": null,
   "id": "05829056",
   "metadata": {},
   "outputs": [],
   "source": []
  }
 ],
 "metadata": {
  "kernelspec": {
   "display_name": "Python 3 (ipykernel)",
   "language": "python",
   "name": "python3"
  },
  "language_info": {
   "codemirror_mode": {
    "name": "ipython",
    "version": 3
   },
   "file_extension": ".py",
   "mimetype": "text/x-python",
   "name": "python",
   "nbconvert_exporter": "python",
   "pygments_lexer": "ipython3",
   "version": "3.7.3"
  }
 },
 "nbformat": 4,
 "nbformat_minor": 5
}
