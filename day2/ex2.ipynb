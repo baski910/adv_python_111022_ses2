{
 "cells": [
  {
   "cell_type": "code",
   "execution_count": 3,
   "id": "e068ada5",
   "metadata": {},
   "outputs": [
    {
     "name": "stdout",
     "output_type": "stream",
     "text": [
      "reference of list1: 140067540767752\n",
      "reference of list2: 140067540767752\n",
      "elements of list1: ['a', 'b', 'c', 'd', 'e', 'f']\n",
      "elements of list2: ['a', 'b', 'c', 'd', 'e', 'f']\n",
      "####################after modification####################\n",
      "elements of list1: ['a', 'b', 'c', 'm', 'e', 'f']\n",
      "elements of list2: ['a', 'b', 'c', 'm', 'e', 'f']\n"
     ]
    }
   ],
   "source": [
    "\"\"\"list references - example\"\"\"\n",
    "\n",
    "list1 = ['a','b','c','d','e','f']  # the list elements can be of any data type. need not be of same datatype\n",
    "\n",
    "# the below assignment will assign the reference of list1 to list2\n",
    "# changes made to list1 or list2 will be reflected in the both the lists\n",
    "list2 = list1\n",
    "\n",
    "print(\"reference of list1:\",id(list1))\n",
    "print(\"reference of list2:\",id(list2))\n",
    "\n",
    "print(\"elements of list1:\",list1)\n",
    "print(\"elements of list2:\",list2)\n",
    "\n",
    "list2[3] = 'm'\n",
    "\n",
    "print(\"#\"*20+\"after modification\"+\"#\"*20)\n",
    "\n",
    "print(\"elements of list1:\",list1)\n",
    "print(\"elements of list2:\",list2)"
   ]
  },
  {
   "cell_type": "code",
   "execution_count": null,
   "id": "5c51109f",
   "metadata": {},
   "outputs": [],
   "source": []
  }
 ],
 "metadata": {
  "kernelspec": {
   "display_name": "Python 3 (ipykernel)",
   "language": "python",
   "name": "python3"
  },
  "language_info": {
   "codemirror_mode": {
    "name": "ipython",
    "version": 3
   },
   "file_extension": ".py",
   "mimetype": "text/x-python",
   "name": "python",
   "nbconvert_exporter": "python",
   "pygments_lexer": "ipython3",
   "version": "3.7.3"
  }
 },
 "nbformat": 4,
 "nbformat_minor": 5
}
