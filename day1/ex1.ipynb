{
 "cells": [
  {
   "cell_type": "code",
   "execution_count": 1,
   "id": "1eba20f7",
   "metadata": {},
   "outputs": [
    {
     "name": "stdout",
     "output_type": "stream",
     "text": [
      "helloworld\n"
     ]
    }
   ],
   "source": [
    "print(\"helloworld\")"
   ]
  },
  {
   "cell_type": "code",
   "execution_count": 2,
   "id": "28537037",
   "metadata": {},
   "outputs": [
    {
     "name": "stdout",
     "output_type": "stream",
     "text": [
      "100\n"
     ]
    }
   ],
   "source": [
    "a = 100\n",
    "\n",
    "print(a)"
   ]
  },
  {
   "cell_type": "code",
   "execution_count": 9,
   "id": "82afb8fc",
   "metadata": {},
   "outputs": [
    {
     "name": "stdout",
     "output_type": "stream",
     "text": [
      "100\n",
      "reference a with value 100: 9082176\n",
      "200\n",
      "reference a with value 200: 9085376\n",
      "200\n",
      "reference of b: 9085376\n",
      "100\n",
      "reference of c: 9082176\n"
     ]
    }
   ],
   "source": [
    "# id - built-in function returns reference of the object\n",
    "a = 100 # 100 is a python object of type integer\n",
    "\n",
    "print(a)\n",
    "print(\"reference a with value 100:\",id(a))\n",
    "\n",
    "a = 200 # 200 is a python object of type integer\n",
    "\n",
    "print(a)\n",
    "print(\"reference a with value 200:\",id(a))\n",
    "\n",
    "b = a\n",
    "print(b)\n",
    "print(\"reference of b:\",id(b))\n",
    "\n",
    "c = 100 \n",
    "print(c)\n",
    "print(\"reference of c:\",id(c))"
   ]
  },
  {
   "cell_type": "code",
   "execution_count": 12,
   "id": "79ce4e58",
   "metadata": {},
   "outputs": [
    {
     "name": "stdout",
     "output_type": "stream",
     "text": [
      "5\n",
      "reference a with value 5: 9079136\n",
      "7\n",
      "reference a with value 7: 9079200\n",
      "7\n",
      "reference b with value 7: 9079200\n"
     ]
    }
   ],
   "source": [
    "# immutable object\n",
    "# mutable object\n",
    "\n",
    "# immutable - reference changes when modified\n",
    "# mutable - reference does not change on modification\n",
    "\n",
    "# example for immutable object\n",
    "a = 5\n",
    "\n",
    "print(a)\n",
    "print(\"reference a with value 5:\",id(a))\n",
    "\n",
    "a += 2 # a = a+2\n",
    "\n",
    "print(a)\n",
    "print(\"reference a with value 7:\",id(a))\n",
    "\n",
    "b = 7\n",
    "print(b)\n",
    "print(\"reference b with value 7:\",id(b))"
   ]
  },
  {
   "cell_type": "code",
   "execution_count": 21,
   "id": "7753c556",
   "metadata": {},
   "outputs": [
    {
     "name": "stdout",
     "output_type": "stream",
     "text": [
      "before: [10, 20, 30, 40, 50]\n",
      "reference of list1: 140103851493064\n",
      "after [10, 20, 30, 'm', 50]\n",
      "reference of list1: 140103851493064\n",
      "reference of 1st element of list1: 9079296\n",
      "m\n"
     ]
    }
   ],
   "source": [
    "# example for mutable \n",
    "list1 = [10,20,30,40,50]\n",
    "#        0   1  2  3  4\n",
    "#        -5 -4 -3 -2 -1\n",
    "print(\"before:\",list1)\n",
    "print(\"reference of list1:\",id(list1))\n",
    "\n",
    "list1[-2] = 'm'\n",
    "print(\"after\",list1)\n",
    "print(\"reference of list1:\",id(list1))\n",
    "print(\"reference of 1st element of list1:\",id(list1[0]))\n",
    "print(list1[-2])"
   ]
  },
  {
   "cell_type": "code",
   "execution_count": 22,
   "id": "b0d1b627",
   "metadata": {},
   "outputs": [
    {
     "name": "stdout",
     "output_type": "stream",
     "text": [
      "<class 'int'>\n"
     ]
    }
   ],
   "source": [
    "# type - returns the data type of the object\n",
    "\n",
    "a = 10\n",
    "print(type(a)) # output will be <class 'int'>"
   ]
  },
  {
   "cell_type": "code",
   "execution_count": 23,
   "id": "43bea383",
   "metadata": {},
   "outputs": [
    {
     "name": "stdout",
     "output_type": "stream",
     "text": [
      "<class 'float'>\n"
     ]
    }
   ],
   "source": [
    "a = 10.86\n",
    "print(type(a)) # output will be <class 'float'>"
   ]
  },
  {
   "cell_type": "code",
   "execution_count": 24,
   "id": "571451d4",
   "metadata": {},
   "outputs": [
    {
     "name": "stdout",
     "output_type": "stream",
     "text": [
      "<class 'str'>\n"
     ]
    }
   ],
   "source": [
    "a = \"helloworld\"\n",
    "print(type(a)) # output will be <class 'str'>"
   ]
  },
  {
   "cell_type": "code",
   "execution_count": 25,
   "id": "21d3db6d",
   "metadata": {},
   "outputs": [
    {
     "name": "stdout",
     "output_type": "stream",
     "text": [
      "<class 'tuple'>\n"
     ]
    }
   ],
   "source": [
    "a = (10,20,30)\n",
    "print(type(a)) # output will be <class 'tuple'>"
   ]
  },
  {
   "cell_type": "code",
   "execution_count": 26,
   "id": "e125f8a2",
   "metadata": {},
   "outputs": [
    {
     "name": "stdout",
     "output_type": "stream",
     "text": [
      "<class 'list'>\n"
     ]
    }
   ],
   "source": [
    "a = [10,20,30]\n",
    "print(type(a)) # output will be <class 'list'>"
   ]
  },
  {
   "cell_type": "code",
   "execution_count": 27,
   "id": "adffa033",
   "metadata": {},
   "outputs": [
    {
     "name": "stdout",
     "output_type": "stream",
     "text": [
      "<class 'dict'>\n"
     ]
    }
   ],
   "source": [
    "a = {'os':'windows','language': 'python'}\n",
    "print(type(a)) # output will be <class 'dict'>"
   ]
  },
  {
   "cell_type": "code",
   "execution_count": null,
   "id": "f4992a7f",
   "metadata": {},
   "outputs": [],
   "source": []
  }
 ],
 "metadata": {
  "kernelspec": {
   "display_name": "Python 3 (ipykernel)",
   "language": "python",
   "name": "python3"
  },
  "language_info": {
   "codemirror_mode": {
    "name": "ipython",
    "version": 3
   },
   "file_extension": ".py",
   "mimetype": "text/x-python",
   "name": "python",
   "nbconvert_exporter": "python",
   "pygments_lexer": "ipython3",
   "version": "3.7.3"
  }
 },
 "nbformat": 4,
 "nbformat_minor": 5
}
