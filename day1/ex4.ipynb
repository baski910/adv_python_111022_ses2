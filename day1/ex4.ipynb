{
 "cells": [
  {
   "cell_type": "code",
   "execution_count": 1,
   "id": "2e96553b",
   "metadata": {},
   "outputs": [
    {
     "name": "stdout",
     "output_type": "stream",
     "text": [
      "[48, 'hello', 13.25, 91, 37, 'world', True, 'flowers', 51, 78]\n"
     ]
    }
   ],
   "source": [
    "\"\"\"Examples for creating, printing and slicing lists\"\"\"\n",
    "list1 = [48,\"hello\",13.25,91,37,\"world\",True,\"flowers\",51,78] # the elements can be of different data type\n",
    "#         0     1     2     3  4   5       6     7       8  9\n",
    "\n",
    "print(list1)"
   ]
  },
  {
   "cell_type": "code",
   "execution_count": 6,
   "id": "cbcbffa4",
   "metadata": {},
   "outputs": [
    {
     "name": "stdout",
     "output_type": "stream",
     "text": [
      "48,hello,13.25,91,37,world,True,flowers,51,78,"
     ]
    }
   ],
   "source": [
    "for element in list1:\n",
    "    print(element,end='\\t')"
   ]
  },
  {
   "cell_type": "code",
   "execution_count": 3,
   "id": "de256429",
   "metadata": {},
   "outputs": [
    {
     "name": "stdout",
     "output_type": "stream",
     "text": [
      "13.25\n"
     ]
    }
   ],
   "source": [
    "print(list1[2])"
   ]
  },
  {
   "cell_type": "code",
   "execution_count": 7,
   "id": "fce71dbe",
   "metadata": {},
   "outputs": [
    {
     "name": "stdout",
     "output_type": "stream",
     "text": [
      "78\n"
     ]
    }
   ],
   "source": [
    "print(list1[-1]) # returns last element"
   ]
  },
  {
   "cell_type": "code",
   "execution_count": 8,
   "id": "0fccf1e4",
   "metadata": {},
   "outputs": [
    {
     "name": "stdout",
     "output_type": "stream",
     "text": [
      "['hello', 13.25, 91, 37]\n"
     ]
    }
   ],
   "source": [
    "print(list1[1:5])"
   ]
  },
  {
   "cell_type": "code",
   "execution_count": 9,
   "id": "6ca66bb0",
   "metadata": {},
   "outputs": [
    {
     "name": "stdout",
     "output_type": "stream",
     "text": [
      "[48, 'hello', 13.25, 91, 37]\n"
     ]
    }
   ],
   "source": [
    "print(list1[:5])"
   ]
  },
  {
   "cell_type": "code",
   "execution_count": 10,
   "id": "0d20b8a9",
   "metadata": {},
   "outputs": [
    {
     "name": "stdout",
     "output_type": "stream",
     "text": [
      "['world', True, 'flowers', 51, 78]\n"
     ]
    }
   ],
   "source": [
    "print(list1[5:])"
   ]
  },
  {
   "cell_type": "code",
   "execution_count": 11,
   "id": "0b0fbb31",
   "metadata": {},
   "outputs": [
    {
     "name": "stdout",
     "output_type": "stream",
     "text": [
      "[78, 51, 'flowers', True, 'world', 37, 91, 13.25, 'hello', 48]\n"
     ]
    }
   ],
   "source": [
    "print(list1[::-1])"
   ]
  },
  {
   "cell_type": "code",
   "execution_count": null,
   "id": "1342791f",
   "metadata": {},
   "outputs": [],
   "source": []
  }
 ],
 "metadata": {
  "kernelspec": {
   "display_name": "Python 3 (ipykernel)",
   "language": "python",
   "name": "python3"
  },
  "language_info": {
   "codemirror_mode": {
    "name": "ipython",
    "version": 3
   },
   "file_extension": ".py",
   "mimetype": "text/x-python",
   "name": "python",
   "nbconvert_exporter": "python",
   "pygments_lexer": "ipython3",
   "version": "3.7.3"
  }
 },
 "nbformat": 4,
 "nbformat_minor": 5
}
