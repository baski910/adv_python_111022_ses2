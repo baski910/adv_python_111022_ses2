{
 "cells": [
  {
   "cell_type": "code",
   "execution_count": 2,
   "id": "d86a3ef1",
   "metadata": {},
   "outputs": [
    {
     "name": "stdout",
     "output_type": "stream",
     "text": [
      "hello\n"
     ]
    }
   ],
   "source": [
    "def echo(n): # 'n' required parameter\n",
    "    print(n)\n",
    "    \n",
    "# function call without parameter leads to error.\n",
    "# the parameter is required and can not be omitted\n",
    "echo()"
   ]
  },
  {
   "cell_type": "code",
   "execution_count": 4,
   "id": "a7a2ef1a",
   "metadata": {},
   "outputs": [
    {
     "name": "stdout",
     "output_type": "stream",
     "text": [
      "Name: 10\n",
      "Age: bob\n"
     ]
    }
   ],
   "source": [
    "def display(name,age):\n",
    "    print(\"Name: {}\".format(name)) # From v 3.8 print(\"Name:{name}\")\n",
    "    print(\"Age: {}\".format(age))\n",
    "\n",
    "# The parameters can be treated as keyword in function call\n",
    "# and passing order can be modified\n",
    "\n",
    "#display('bob',10)\n",
    "display(10,'bob') # passing parameters in different order"
   ]
  },
  {
   "cell_type": "code",
   "execution_count": null,
   "id": "1dfa74de",
   "metadata": {},
   "outputs": [],
   "source": []
  }
 ],
 "metadata": {
  "kernelspec": {
   "display_name": "Python 3 (ipykernel)",
   "language": "python",
   "name": "python3"
  },
  "language_info": {
   "codemirror_mode": {
    "name": "ipython",
    "version": 3
   },
   "file_extension": ".py",
   "mimetype": "text/x-python",
   "name": "python",
   "nbconvert_exporter": "python",
   "pygments_lexer": "ipython3",
   "version": "3.7.3"
  }
 },
 "nbformat": 4,
 "nbformat_minor": 5
}
