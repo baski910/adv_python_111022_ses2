{
 "cells": [
  {
   "cell_type": "code",
   "execution_count": 4,
   "id": "5eb36804",
   "metadata": {},
   "outputs": [
    {
     "name": "stdout",
     "output_type": "stream",
     "text": [
      "<class 'numpy.ndarray'>\n",
      "[12 25 37 62]\n",
      "[46 18 81 29]\n",
      "[12, 25, 37, 62, 46, 18, 81, 29]\n",
      "[ 58  43 118  91]\n"
     ]
    }
   ],
   "source": [
    "# numpy - a library for creating n dimensional array\n",
    "\n",
    "import numpy as np\n",
    "\n",
    "a = [12,25,37,62]\n",
    "\n",
    "arr1 = np.array(a)\n",
    "\n",
    "b = [46,18,81,29]\n",
    "\n",
    "arr2 = np.array(b)\n",
    "print(type(arr1))\n",
    "\n",
    "print(arr1)\n",
    "print(arr2)\n",
    "\n",
    "print(a+b)\n",
    "print(arr1+arr2)"
   ]
  },
  {
   "cell_type": "code",
   "execution_count": 5,
   "id": "b4545b5e",
   "metadata": {},
   "outputs": [
    {
     "name": "stdout",
     "output_type": "stream",
     "text": [
      "[0.2        0.21020408 0.22040816 0.23061224 0.24081633 0.25102041\n",
      " 0.26122449 0.27142857 0.28163265 0.29183673 0.30204082 0.3122449\n",
      " 0.32244898 0.33265306 0.34285714 0.35306122 0.36326531 0.37346939\n",
      " 0.38367347 0.39387755 0.40408163 0.41428571 0.4244898  0.43469388\n",
      " 0.44489796 0.45510204 0.46530612 0.4755102  0.48571429 0.49591837\n",
      " 0.50612245 0.51632653 0.52653061 0.53673469 0.54693878 0.55714286\n",
      " 0.56734694 0.57755102 0.5877551  0.59795918 0.60816327 0.61836735\n",
      " 0.62857143 0.63877551 0.64897959 0.65918367 0.66938776 0.67959184\n",
      " 0.68979592 0.7       ]\n"
     ]
    }
   ],
   "source": [
    "# linspace - create an array within a small range\n",
    "\n",
    "arr1 = np.linspace(0.2,0.7,50)\n",
    "\n",
    "print(arr1)"
   ]
  },
  {
   "cell_type": "code",
   "execution_count": null,
   "id": "d0751ae2",
   "metadata": {},
   "outputs": [],
   "source": []
  }
 ],
 "metadata": {
  "kernelspec": {
   "display_name": "Python 3 (ipykernel)",
   "language": "python",
   "name": "python3"
  },
  "language_info": {
   "codemirror_mode": {
    "name": "ipython",
    "version": 3
   },
   "file_extension": ".py",
   "mimetype": "text/x-python",
   "name": "python",
   "nbconvert_exporter": "python",
   "pygments_lexer": "ipython3",
   "version": "3.7.3"
  }
 },
 "nbformat": 4,
 "nbformat_minor": 5
}
