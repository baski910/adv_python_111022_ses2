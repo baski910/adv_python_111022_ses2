{
 "cells": [
  {
   "cell_type": "code",
   "execution_count": 5,
   "id": "e7ce2ea4",
   "metadata": {},
   "outputs": [
    {
     "name": "stdout",
     "output_type": "stream",
     "text": [
      "(562, 960, 3)\n",
      "[101 131  61]\n"
     ]
    },
    {
     "name": "stderr",
     "output_type": "stream",
     "text": [
      "/home/baskar/venv-python37/lib/python3.7/site-packages/ipykernel_launcher.py:5: DeprecationWarning: Starting with ImageIO v3 the behavior of this function will switch to that of iio.v3.imread. To keep the current behavior (and make this warning dissapear) use `import imageio.v2 as imageio` or call `imageio.v2.imread` directly.\n",
      "  \"\"\"\n"
     ]
    }
   ],
   "source": [
    "import imageio\n",
    "import matplotlib.pyplot as plt\n",
    "import numpy as np\n",
    "\n",
    "pic = imageio.imread('demo_2.jpg')\n",
    "\n",
    "#plt.figure(figsize=(12,10))\n",
    "#plt.imshow(pic)\n",
    "#plt.show()\n",
    "\n",
    "#print(pic.shape)\n",
    "\n",
    "#print(pic[0,0,:])\n",
    "\n",
    "gray = lambda rgb : np.dot(rgb[... , :3] , [0.299 , 0.587, 0.114]) \n",
    "gray = gray(pic)  \n",
    "plt.figure( figsize = (10,10))\n",
    "plt.imshow(gray, cmap = plt.get_cmap(name = 'gray'))\n",
    "plt.show()"
   ]
  },
  {
   "cell_type": "code",
   "execution_count": null,
   "id": "c11e6e5e",
   "metadata": {},
   "outputs": [],
   "source": []
  }
 ],
 "metadata": {
  "kernelspec": {
   "display_name": "Python 3 (ipykernel)",
   "language": "python",
   "name": "python3"
  },
  "language_info": {
   "codemirror_mode": {
    "name": "ipython",
    "version": 3
   },
   "file_extension": ".py",
   "mimetype": "text/x-python",
   "name": "python",
   "nbconvert_exporter": "python",
   "pygments_lexer": "ipython3",
   "version": "3.7.3"
  }
 },
 "nbformat": 4,
 "nbformat_minor": 5
}
