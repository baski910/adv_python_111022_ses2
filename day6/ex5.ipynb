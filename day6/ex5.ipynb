{
 "cells": [
  {
   "cell_type": "code",
   "execution_count": null,
   "id": "b3efa204",
   "metadata": {},
   "outputs": [],
   "source": [
    "# using aggregate functions\n",
    "import pandas as pd\n",
    "import dateutil as du\n",
    "\n",
    "df = pd.read_csv('phone_data.csv')\n",
    "\n",
    "print(df.head())\n",
    "\n",
    "df['date'] = df['date'].apply(lambda x: du.parser.parse(str(x)))\n",
    "\n",
    "print(df.head())"
   ]
  },
  {
   "cell_type": "code",
   "execution_count": 5,
   "id": "e487efba",
   "metadata": {},
   "outputs": [
    {
     "name": "stdout",
     "output_type": "stream",
     "text": [
      "92321.0\n"
     ]
    }
   ],
   "source": [
    "#s1 = \"15/10/14 06:58\"\n",
    "\n",
    "#print(du.parser.parse(s1))\n",
    "\n",
    "print(df.loc[df['item']=='call','duration'].sum())"
   ]
  },
  {
   "cell_type": "code",
   "execution_count": 6,
   "id": "3c74f815",
   "metadata": {},
   "outputs": [
    {
     "name": "stdout",
     "output_type": "stream",
     "text": [
      "item\n",
      "call    92321.00\n",
      "data     5164.35\n",
      "sms       292.00\n",
      "Name: duration, dtype: float64\n"
     ]
    }
   ],
   "source": [
    "# groupby item and sum duration\n",
    "print(df.groupby(['item'])['duration'].aggregate(sum))"
   ]
  },
  {
   "cell_type": "code",
   "execution_count": 7,
   "id": "bdc1fcc8",
   "metadata": {},
   "outputs": [
    {
     "name": "stdout",
     "output_type": "stream",
     "text": [
      "count      830.000000\n",
      "mean       117.804036\n",
      "std        444.129560\n",
      "min          1.000000\n",
      "25%          1.000000\n",
      "50%         24.500000\n",
      "75%         55.000000\n",
      "max      10528.000000\n",
      "Name: duration, dtype: float64\n"
     ]
    }
   ],
   "source": [
    "# get statistical info on duration\n",
    "print(df['duration'].describe())"
   ]
  },
  {
   "cell_type": "code",
   "execution_count": 8,
   "id": "4485203b",
   "metadata": {},
   "outputs": [
    {
     "name": "stdout",
     "output_type": "stream",
     "text": [
      "month\n",
      "2014-11    26639.441\n",
      "2014-12    14641.870\n",
      "2015-01    18223.299\n",
      "2015-02    15522.299\n",
      "2015-03    22750.441\n",
      "Name: duration, dtype: float64\n"
     ]
    }
   ],
   "source": [
    "print(df.groupby(['month'])['duration'].aggregate(sum))"
   ]
  },
  {
   "cell_type": "code",
   "execution_count": 9,
   "id": "2ecf04eb",
   "metadata": {},
   "outputs": [
    {
     "name": "stdout",
     "output_type": "stream",
     "text": [
      "          duration            \n",
      "               sum        mean\n",
      "month                         \n",
      "2014-11  26639.441  115.823657\n",
      "2014-12  14641.870   93.260318\n",
      "2015-01  18223.299   88.894141\n",
      "2015-02  15522.299  113.301453\n",
      "2015-03  22750.441  225.251891\n"
     ]
    }
   ],
   "source": [
    "import numpy as np\n",
    "print(df.groupby(['month']).aggregate({'duration':[sum, np.mean ]}))"
   ]
  },
  {
   "cell_type": "code",
   "execution_count": null,
   "id": "87848b50",
   "metadata": {},
   "outputs": [],
   "source": []
  }
 ],
 "metadata": {
  "kernelspec": {
   "display_name": "Python 3 (ipykernel)",
   "language": "python",
   "name": "python3"
  },
  "language_info": {
   "codemirror_mode": {
    "name": "ipython",
    "version": 3
   },
   "file_extension": ".py",
   "mimetype": "text/x-python",
   "name": "python",
   "nbconvert_exporter": "python",
   "pygments_lexer": "ipython3",
   "version": "3.7.3"
  }
 },
 "nbformat": 4,
 "nbformat_minor": 5
}
