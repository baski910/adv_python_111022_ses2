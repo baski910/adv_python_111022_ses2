{
 "cells": [
  {
   "cell_type": "code",
   "execution_count": 6,
   "id": "7a3dd005",
   "metadata": {},
   "outputs": [
    {
     "name": "stdout",
     "output_type": "stream",
     "text": [
      "{'name': 'alice', 'age': 7, 'class': 'first', 'lname': 'joe'}\n"
     ]
    }
   ],
   "source": [
    "\"\"\"\n",
    "update - is a dictionary function, used for merging two dictionaries\n",
    "       takes another dictionary as argument, and updates the orginal\n",
    "       dictionary with key and value pairs in the dictionary passed as argument\n",
    "\"\"\"\n",
    "h1 = {'name':'alice','age':7,'class':'first'}\n",
    "\n",
    "h2 = {'lname': 'joe'}\n",
    "\n",
    "h1.update(h2)\n",
    "\n",
    "print(h1)"
   ]
  },
  {
   "cell_type": "code",
   "execution_count": 7,
   "id": "c465a584",
   "metadata": {},
   "outputs": [
    {
     "name": "stdout",
     "output_type": "stream",
     "text": [
      "{'name': 'alice', 'age': 7, 'class': 'first'}\n"
     ]
    }
   ],
   "source": [
    "value = h1.pop('lname')\n",
    "#print(value)\n",
    "\n",
    "print(h1)"
   ]
  },
  {
   "cell_type": "code",
   "execution_count": 4,
   "id": "35baf347",
   "metadata": {},
   "outputs": [
    {
     "name": "stdout",
     "output_type": "stream",
     "text": [
      "{}\n"
     ]
    }
   ],
   "source": [
    "\"\"\"\n",
    "clear - is a dictionary function, makes the dictionary empty\n",
    "\"\"\"\n",
    "\n",
    "h1.clear()\n",
    "print(h1)"
   ]
  },
  {
   "cell_type": "code",
   "execution_count": null,
   "id": "353e020f",
   "metadata": {},
   "outputs": [],
   "source": []
  }
 ],
 "metadata": {
  "kernelspec": {
   "display_name": "Python 3 (ipykernel)",
   "language": "python",
   "name": "python3"
  },
  "language_info": {
   "codemirror_mode": {
    "name": "ipython",
    "version": 3
   },
   "file_extension": ".py",
   "mimetype": "text/x-python",
   "name": "python",
   "nbconvert_exporter": "python",
   "pygments_lexer": "ipython3",
   "version": "3.7.3"
  }
 },
 "nbformat": 4,
 "nbformat_minor": 5
}
