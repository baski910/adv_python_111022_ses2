{
 "cells": [
  {
   "cell_type": "code",
   "execution_count": 1,
   "id": "00c5dc46",
   "metadata": {},
   "outputs": [
    {
     "name": "stdout",
     "output_type": "stream",
     "text": [
      "before sorting: [79, 134, 56, 10, 9, 613, 84, 95, 472, 861, 720, 49, 516, 65]\n",
      "after sorting: [9, 10, 49, 56, 65, 79, 84, 95, 134, 472, 516, 613, 720, 861]\n"
     ]
    }
   ],
   "source": [
    "# sorting lists\n",
    "\"\"\"Example for sort\"\"\"\n",
    "\n",
    "list1 = [79,134,56,10,9,613,84,95,472,861,720,49,516,65]\n",
    "\n",
    "print(\"before sorting:\",list1)\n",
    "\n",
    "list1.sort()\n",
    "\n",
    "print(\"after sorting:\",list1)"
   ]
  },
  {
   "cell_type": "code",
   "execution_count": 3,
   "id": "de785823",
   "metadata": {},
   "outputs": [
    {
     "name": "stdout",
     "output_type": "stream",
     "text": [
      "before sorting: [79, 134, 56, 10, 9, 613, 84, 95, 472, 861, 720, 49, 516, 65]\n",
      "after sorting: [79, 134, 56, 10, 9, 613, 84, 95, 472, 861, 720, 49, 516, 65]\n",
      "after sorting: [9, 10, 49, 56, 65, 79, 84, 95, 134, 472, 516, 613, 720, 861]\n"
     ]
    }
   ],
   "source": [
    "list1 = [79,134,56,10,9,613,84,95,472,861,720,49,516,65]\n",
    "print(\"before sorting:\",list1)\n",
    "\n",
    "list2 = sorted(list1)\n",
    "\n",
    "print(\"after sorting:\",list1)\n",
    "print(\"after sorting:\",list2)"
   ]
  },
  {
   "cell_type": "code",
   "execution_count": 4,
   "id": "43945f45",
   "metadata": {},
   "outputs": [
    {
     "name": "stdout",
     "output_type": "stream",
     "text": [
      "before sorting: [79, 134, 56, 10, 9, 613, 84, 95, 472, 861, 720, 49, 516, 65]\n",
      "after sorting: [861, 720, 613, 516, 472, 134, 95, 84, 79, 65, 56, 49, 10, 9]\n"
     ]
    }
   ],
   "source": [
    "# sorting lists\n",
    "\"\"\"Example for sort - reverse order\"\"\"\n",
    "\n",
    "list1 = [79,134,56,10,9,613,84,95,472,861,720,49,516,65]\n",
    "\n",
    "print(\"before sorting:\",list1)\n",
    "\n",
    "list1.sort(reverse=True)\n",
    "\n",
    "print(\"after sorting:\",list1)"
   ]
  },
  {
   "cell_type": "code",
   "execution_count": 5,
   "id": "a8160640",
   "metadata": {},
   "outputs": [
    {
     "name": "stdout",
     "output_type": "stream",
     "text": [
      "before sorting: [79, 134, 56, 10, 9, 613, 84, 95, 472, 861, 720, 49, 516, 65]\n",
      "after sorting: [79, 134, 56, 10, 9, 613, 84, 95, 472, 861, 720, 49, 516, 65]\n",
      "after sorting: [861, 720, 613, 516, 472, 134, 95, 84, 79, 65, 56, 49, 10, 9]\n"
     ]
    }
   ],
   "source": [
    "\"\"\"Example for sorted - reverse order\"\"\"\n",
    "\n",
    "list1 = [79,134,56,10,9,613,84,95,472,861,720,49,516,65]\n",
    "\n",
    "print(\"before sorting:\",list1)\n",
    "\n",
    "list2 = sorted(list1,reverse=True)\n",
    "\n",
    "print(\"after sorting:\",list1)\n",
    "print(\"after sorting:\",list2)"
   ]
  },
  {
   "cell_type": "code",
   "execution_count": null,
   "id": "fc900a67",
   "metadata": {},
   "outputs": [],
   "source": []
  }
 ],
 "metadata": {
  "kernelspec": {
   "display_name": "Python 3 (ipykernel)",
   "language": "python",
   "name": "python3"
  },
  "language_info": {
   "codemirror_mode": {
    "name": "ipython",
    "version": 3
   },
   "file_extension": ".py",
   "mimetype": "text/x-python",
   "name": "python",
   "nbconvert_exporter": "python",
   "pygments_lexer": "ipython3",
   "version": "3.7.3"
  }
 },
 "nbformat": 4,
 "nbformat_minor": 5
}
