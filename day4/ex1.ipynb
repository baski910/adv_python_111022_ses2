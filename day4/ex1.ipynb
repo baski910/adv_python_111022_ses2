{
 "cells": [
  {
   "cell_type": "code",
   "execution_count": null,
   "id": "481c324f",
   "metadata": {},
   "outputs": [],
   "source": [
    "####################################################################\n",
    "# fileobject = open(filepath,filemode,buffering)\n",
    "# write - writes the content passed as argument to the filed pointed to by file object\n",
    "#\n",
    "# writelines - takes a list as argument and writes the list element to the file pointed to by the file object\n",
    "###########################################################################\n",
    "\n",
    "fh = open('myfile1.txt','w')\n",
    "\n",
    "fh.write('first line from python script\\n')\n",
    "fh.write('working with text file\\n')\n",
    "\n",
    "fh.close()"
   ]
  }
 ],
 "metadata": {
  "kernelspec": {
   "display_name": "Python 3 (ipykernel)",
   "language": "python",
   "name": "python3"
  },
  "language_info": {
   "codemirror_mode": {
    "name": "ipython",
    "version": 3
   },
   "file_extension": ".py",
   "mimetype": "text/x-python",
   "name": "python",
   "nbconvert_exporter": "python",
   "pygments_lexer": "ipython3",
   "version": "3.7.3"
  }
 },
 "nbformat": 4,
 "nbformat_minor": 5
}
